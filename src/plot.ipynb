{
 "cells": [
  {
   "cell_type": "code",
   "execution_count": null,
   "metadata": {},
   "outputs": [
    {
     "name": "stdout",
     "output_type": "stream",
     "text": [
      "/workspace/bag/sg_exp/sg_exp_0.db3\n",
      "Bag file not found\n"
     ]
    },
    {
     "ename": "AttributeError",
     "evalue": "'NoneType' object has no attribute 'execute'",
     "output_type": "error",
     "traceback": [
      "\u001b[0;31m---------------------------------------------------------------------------\u001b[0m",
      "\u001b[0;31mAttributeError\u001b[0m                            Traceback (most recent call last)",
      "Cell \u001b[0;32mIn[1], line 19\u001b[0m\n\u001b[1;32m     17\u001b[0m \u001b[38;5;28mprint\u001b[39m(path)\n\u001b[1;32m     18\u001b[0m bag_converter\u001b[38;5;241m.\u001b[39mconnectDB(path)\n\u001b[0;32m---> 19\u001b[0m res1 \u001b[38;5;241m=\u001b[39m \u001b[43mbag_converter\u001b[49m\u001b[38;5;241;43m.\u001b[39;49m\u001b[43mgetTopicDataWithPandas\u001b[49m\u001b[43m(\u001b[49m\u001b[38;5;124;43m\"\u001b[39;49m\u001b[38;5;124;43m/sg/pressure\u001b[39;49m\u001b[38;5;124;43m\"\u001b[39;49m\u001b[43m)\u001b[49m\n\u001b[1;32m     20\u001b[0m \u001b[38;5;28mprint\u001b[39m(res1)\n\u001b[1;32m     21\u001b[0m res2 \u001b[38;5;241m=\u001b[39m bag_converter\u001b[38;5;241m.\u001b[39mgetTopicDataWithPandas(\u001b[38;5;124m\"\u001b[39m\u001b[38;5;124m/sg/wrench\u001b[39m\u001b[38;5;124m\"\u001b[39m)\n",
      "File \u001b[0;32m~/dev_ws/src/bag_converter.py:103\u001b[0m, in \u001b[0;36mBagConverter.getTopicDataWithPandas\u001b[0;34m(self, topicName)\u001b[0m\n\u001b[1;32m    102\u001b[0m \u001b[38;5;28;01mdef\u001b[39;00m \u001b[38;5;21mgetTopicDataWithPandas\u001b[39m(\u001b[38;5;28mself\u001b[39m, topicName):\n\u001b[0;32m--> 103\u001b[0m     topicDict \u001b[38;5;241m=\u001b[39m \u001b[38;5;28;43mself\u001b[39;49m\u001b[38;5;241;43m.\u001b[39;49m\u001b[43m_extractDataFromDB\u001b[49m\u001b[43m(\u001b[49m\u001b[43m)\u001b[49m\n\u001b[1;32m    104\u001b[0m     \u001b[38;5;28;01mif\u001b[39;00m topicName \u001b[38;5;129;01min\u001b[39;00m topicDict\u001b[38;5;241m.\u001b[39mkeys():\n\u001b[1;32m    105\u001b[0m         df \u001b[38;5;241m=\u001b[39m pd\u001b[38;5;241m.\u001b[39mDataFrame(topicDict[topicName])\n",
      "File \u001b[0;32m~/dev_ws/src/bag_converter.py:49\u001b[0m, in \u001b[0;36mBagConverter._extractDataFromDB\u001b[0;34m(self)\u001b[0m\n\u001b[1;32m     47\u001b[0m \u001b[38;5;28;01mdef\u001b[39;00m \u001b[38;5;21m_extractDataFromDB\u001b[39m(\u001b[38;5;28mself\u001b[39m):\n\u001b[0;32m---> 49\u001b[0m     \u001b[38;5;28;43mself\u001b[39;49m\u001b[38;5;241;43m.\u001b[39;49m\u001b[43mcursor\u001b[49m\u001b[38;5;241;43m.\u001b[39;49m\u001b[43mexecute\u001b[49m(\u001b[38;5;124m'\u001b[39m\u001b[38;5;124mSELECT * from(\u001b[39m\u001b[38;5;132;01m{}\u001b[39;00m\u001b[38;5;124m)\u001b[39m\u001b[38;5;124m'\u001b[39m\u001b[38;5;241m.\u001b[39mformat(\u001b[38;5;124m'\u001b[39m\u001b[38;5;124mtopics\u001b[39m\u001b[38;5;124m'\u001b[39m))\n\u001b[1;32m     50\u001b[0m     topicRecords \u001b[38;5;241m=\u001b[39m \u001b[38;5;28mself\u001b[39m\u001b[38;5;241m.\u001b[39mcursor\u001b[38;5;241m.\u001b[39mfetchall()\n\u001b[1;32m     51\u001b[0m     \u001b[38;5;28mself\u001b[39m\u001b[38;5;241m.\u001b[39mcursor\u001b[38;5;241m.\u001b[39mexecute(\u001b[38;5;124m'\u001b[39m\u001b[38;5;124mSELECT * from(\u001b[39m\u001b[38;5;132;01m{}\u001b[39;00m\u001b[38;5;124m)\u001b[39m\u001b[38;5;124m'\u001b[39m\u001b[38;5;241m.\u001b[39mformat(\u001b[38;5;124m'\u001b[39m\u001b[38;5;124mmessages\u001b[39m\u001b[38;5;124m'\u001b[39m))\n",
      "\u001b[0;31mAttributeError\u001b[0m: 'NoneType' object has no attribute 'execute'"
     ]
    }
   ],
   "source": [
    "import os \n",
    "import sys\n",
    "#devconatinerでパスが通らないため以下を指定\n",
    "sys.path.append(\"/workspace\")\n",
    "from rosbag2_py import SequentialReader, StorageOptions, ConverterOptions\n",
    "import pandas as pd\n",
    "import bag_converter\n",
    "import matplotlib.pyplot as plt\n",
    "\n",
    "if __name__ == \"__main__\":\n",
    "    bag_converter = bag_converter.BagConverter()\n",
    "\n",
    "    #1 .devコンテナを使うなら絶対パスを指定\n",
    "    path = \"../bag/sg_exp/sg_exp_0.db3\"\n",
    "    #2 ローカルに環境を構築しているなら相対パスで指定可能\n",
    "    #path = \"../bag/sg_exp_new-pad_kyuchaku/sg_exp_0.db3\"\n",
    "    bag_converter.connectDB(path)\n",
    "    res1 = bag_converter.getTopicDataWithPandas(\"/sg/pressure\")\n",
    "    res2 = bag_converter.getTopicDataWithPandas(\"/sg/wrench\")\n",
    "\n",
    "\n",
    "    bag_converter.getAllTopicNameAndMessageType()\n",
    "\n",
    "    fig = plt.figure(figsize=(10, 5))\n",
    "    ax1 = fig.add_subplot(2, 2, 1)\n",
    "    ax2 = fig.add_subplot(2, 2, 2)\n",
    "    ax3 = fig.add_subplot(2, 2, 3)\n",
    "    ax4 = fig.add_subplot(2, 2, 4)\n",
    "    ax1.plot(res1['msec'].to_numpy(), res1['data'].to_numpy())\n",
    "    ax2.plot(res2['msec'].to_numpy(), res2['wrench/force/z'].to_numpy())\n",
    "    ax3.plot(res2['msec'].to_numpy(), res2['wrench/torque/x'].to_numpy())\n",
    "    ax4.plot(res2['msec'].to_numpy(), res2['wrench/torque/y'].to_numpy())\n",
    "    plt.show()\n",
    "\n",
    "\n",
    "    "
   ]
  }
 ],
 "metadata": {
  "kernelspec": {
   "display_name": "Python 3",
   "language": "python",
   "name": "python3"
  },
  "language_info": {
   "codemirror_mode": {
    "name": "ipython",
    "version": 3
   },
   "file_extension": ".py",
   "mimetype": "text/x-python",
   "name": "python",
   "nbconvert_exporter": "python",
   "pygments_lexer": "ipython3",
   "version": "3.10.12"
  }
 },
 "nbformat": 4,
 "nbformat_minor": 4
}
