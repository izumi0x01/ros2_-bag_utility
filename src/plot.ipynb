{
 "cells": [
  {
   "cell_type": "code",
   "execution_count": 1,
   "metadata": {},
   "outputs": [
    {
     "ename": "ModuleNotFoundError",
     "evalue": "No module named 'rosbag2_py'",
     "output_type": "error",
     "traceback": [
      "\u001b[0;31m---------------------------------------------------------------------------\u001b[0m",
      "\u001b[0;31mModuleNotFoundError\u001b[0m                       Traceback (most recent call last)",
      "Cell \u001b[0;32mIn[1], line 5\u001b[0m\n\u001b[1;32m      3\u001b[0m \u001b[38;5;66;03m#devconatinerでパスが通らないため以下を指定\u001b[39;00m\n\u001b[1;32m      4\u001b[0m sys\u001b[38;5;241m.\u001b[39mpath\u001b[38;5;241m.\u001b[39mappend(\u001b[38;5;124m\"\u001b[39m\u001b[38;5;124m/workspace\u001b[39m\u001b[38;5;124m\"\u001b[39m)\n\u001b[0;32m----> 5\u001b[0m \u001b[38;5;28;01mfrom\u001b[39;00m \u001b[38;5;21;01mrosbag2_py\u001b[39;00m \u001b[38;5;28;01mimport\u001b[39;00m SequentialReader, StorageOptions, ConverterOptions\n\u001b[1;32m      6\u001b[0m \u001b[38;5;28;01mimport\u001b[39;00m \u001b[38;5;21;01mpandas\u001b[39;00m \u001b[38;5;28;01mas\u001b[39;00m \u001b[38;5;21;01mpd\u001b[39;00m\n\u001b[1;32m      7\u001b[0m \u001b[38;5;28;01mimport\u001b[39;00m \u001b[38;5;21;01mbag_converter\u001b[39;00m\n",
      "\u001b[0;31mModuleNotFoundError\u001b[0m: No module named 'rosbag2_py'"
     ]
    }
   ],
   "source": [
    "import os \n",
    "import sys\n",
    "#devconatinerでパスが通らないため以下を指定\n",
    "sys.path.append(\"/workspace\")\n",
    "from rosbag2_py import SequentialReader, StorageOptions, ConverterOptions\n",
    "import pandas as pd\n",
    "import bag_converter\n",
    "import matplotlib.pyplot as plt\n",
    "\n",
    "if __name__ == \"__main__\":\n",
    "    bag_converter = bag_converter.BagConverter()\n",
    "\n",
    "    #1 .devコンテナを使うなら絶対パスを指定\n",
    "    path = \"/workspace/bag/sg_exp/sg_exp_0.db3\"\n",
    "    #2 ローカルに環境を構築しているなら相対パスで指定可能\n",
    "    #path = \"../bag/sg_exp_new-pad_kyuchaku/sg_exp_0.db3\"\n",
    "    print(path)\n",
    "    bag_converter.connectDB(path)\n",
    "    res1 = bag_converter.getTopicDataWithPandas(\"/sg/pressure\")\n",
    "    print(res1)\n",
    "    res2 = bag_converter.getTopicDataWithPandas(\"/sg/wrench\")\n",
    "    print(res2)\n",
    "\n",
    "\n",
    "    fig = plt.figure(figsize=(10, 5))\n",
    "    ax1 = fig.add_subplot(2, 2, 1)\n",
    "    ax2 = fig.add_subplot(2, 2, 2)\n",
    "    ax3 = fig.add_subplot(2, 2, 3)\n",
    "    ax4 = fig.add_subplot(2, 2, 4)\n",
    "    ax1.plot(res1['msec'].to_numpy(), res1['data'].to_numpy())\n",
    "    ax2.plot(res2['msec'].to_numpy(), res2['wrench_force_z'].to_numpy())\n",
    "    ax3.plot(res2['msec'].to_numpy(), res2['wrench_torque_x'].to_numpy())\n",
    "    ax4.plot(res2['msec'].to_numpy(), res2['wrench_torque_y'].to_numpy())\n",
    "    plt.show()\n",
    "\n",
    "\n",
    "    "
   ]
  },
  {
   "cell_type": "code",
   "execution_count": 1,
   "metadata": {},
   "outputs": [
    {
     "ename": "ModuleNotFoundError",
     "evalue": "No module named 'rqt_py_common'",
     "output_type": "error",
     "traceback": [
      "\u001b[0;31m---------------------------------------------------------------------------\u001b[0m",
      "\u001b[0;31mModuleNotFoundError\u001b[0m                       Traceback (most recent call last)",
      "Cell \u001b[0;32mIn[1], line 2\u001b[0m\n\u001b[1;32m      1\u001b[0m \u001b[38;5;28;01mimport\u001b[39;00m \u001b[38;5;21;01mpandas\u001b[39;00m \u001b[38;5;28;01mas\u001b[39;00m \u001b[38;5;21;01mpd\u001b[39;00m\n\u001b[0;32m----> 2\u001b[0m \u001b[38;5;28;01mimport\u001b[39;00m \u001b[38;5;21;01mbag_converter\u001b[39;00m\n\u001b[1;32m      3\u001b[0m \u001b[38;5;28;01mimport\u001b[39;00m \u001b[38;5;21;01mmatplotlib\u001b[39;00m\u001b[38;5;21;01m.\u001b[39;00m\u001b[38;5;21;01mpyplot\u001b[39;00m \u001b[38;5;28;01mas\u001b[39;00m \u001b[38;5;21;01mplt\u001b[39;00m\n",
      "File \u001b[0;32m~/dev_ws/src/bag_converter.py:3\u001b[0m\n\u001b[1;32m      1\u001b[0m \u001b[38;5;28;01mimport\u001b[39;00m \u001b[38;5;21;01mos\u001b[39;00m\n\u001b[1;32m      2\u001b[0m \u001b[38;5;28;01mimport\u001b[39;00m \u001b[38;5;21;01msqlite3\u001b[39;00m\n\u001b[0;32m----> 3\u001b[0m \u001b[38;5;28;01mimport\u001b[39;00m \u001b[38;5;21;01mmessage_converter\u001b[39;00m\n\u001b[1;32m      4\u001b[0m \u001b[38;5;28;01mfrom\u001b[39;00m \u001b[38;5;21;01mrclpy\u001b[39;00m\u001b[38;5;21;01m.\u001b[39;00m\u001b[38;5;21;01mserialization\u001b[39;00m \u001b[38;5;28;01mimport\u001b[39;00m deserialize_message\n\u001b[1;32m      5\u001b[0m \u001b[38;5;28;01mfrom\u001b[39;00m \u001b[38;5;21;01mrosidl_runtime_py\u001b[39;00m\u001b[38;5;21;01m.\u001b[39;00m\u001b[38;5;21;01mutilities\u001b[39;00m \u001b[38;5;28;01mimport\u001b[39;00m get_message\n",
      "File \u001b[0;32m~/dev_ws/src/message_converter.py:33\u001b[0m\n\u001b[1;32m      1\u001b[0m \u001b[38;5;66;03m#!/usr/bin/env python\u001b[39;00m\n\u001b[1;32m      2\u001b[0m \u001b[38;5;66;03m# Software License Agreement (BSD License)\u001b[39;00m\n\u001b[1;32m      3\u001b[0m \u001b[38;5;66;03m#\u001b[39;00m\n\u001b[0;32m   (...)\u001b[0m\n\u001b[1;32m     31\u001b[0m \u001b[38;5;66;03m# ANY WAY OUT OF THE USE OF THIS SOFTWARE, EVEN IF ADVISED OF THE\u001b[39;00m\n\u001b[1;32m     32\u001b[0m \u001b[38;5;66;03m# POSSIBILITY OF SUCH DAMAGE.\u001b[39;00m\n\u001b[0;32m---> 33\u001b[0m \u001b[38;5;28;01mfrom\u001b[39;00m \u001b[38;5;21;01mrqt_py_common\u001b[39;00m \u001b[38;5;28;01mimport\u001b[39;00m message_helpers\n\u001b[1;32m     35\u001b[0m \u001b[38;5;28;01mfrom\u001b[39;00m \u001b[38;5;21;01mbuiltin_interfaces\u001b[39;00m\u001b[38;5;21;01m.\u001b[39;00m\u001b[38;5;21;01mmsg\u001b[39;00m \u001b[38;5;28;01mimport\u001b[39;00m Time,Duration\n\u001b[1;32m     36\u001b[0m \u001b[38;5;66;03m#from rclpy.time import Time\u001b[39;00m\n\u001b[1;32m     37\u001b[0m \u001b[38;5;66;03m#from rclpy.duration import Duration\u001b[39;00m\n",
      "\u001b[0;31mModuleNotFoundError\u001b[0m: No module named 'rqt_py_common'"
     ]
    }
   ],
   "source": [
    "import pandas as pd\n",
    "import bag_converter\n",
    "import matplotlib.pyplot as plt"
   ]
  },
  {
   "cell_type": "code",
   "execution_count": null,
   "metadata": {},
   "outputs": [],
   "source": []
  }
 ],
 "metadata": {
  "kernelspec": {
   "display_name": "Python 3 (ipykernel)",
   "language": "python",
   "name": "python3"
  },
  "language_info": {
   "codemirror_mode": {
    "name": "ipython",
    "version": 3
   },
   "file_extension": ".py",
   "mimetype": "text/x-python",
   "name": "python",
   "nbconvert_exporter": "python",
   "pygments_lexer": "ipython3",
   "version": "3.10.12"
  }
 },
 "nbformat": 4,
 "nbformat_minor": 4
}
